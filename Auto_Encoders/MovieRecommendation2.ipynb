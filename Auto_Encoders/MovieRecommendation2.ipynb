{
  "nbformat": 4,
  "nbformat_minor": 0,
  "metadata": {
    "colab": {
      "provenance": [],
      "authorship_tag": "ABX9TyPsidSwpT41bpOApeYIlqTR",
      "include_colab_link": true
    },
    "kernelspec": {
      "name": "python3",
      "display_name": "Python 3"
    },
    "language_info": {
      "name": "python"
    }
  },
  "cells": [
    {
      "cell_type": "markdown",
      "metadata": {
        "id": "view-in-github",
        "colab_type": "text"
      },
      "source": [
        "<a href=\"https://colab.research.google.com/github/sudharshanpaul/Deep-Learning/blob/main/Auto_Encoders/MovieRecommendation2.ipynb\" target=\"_parent\"><img src=\"https://colab.research.google.com/assets/colab-badge.svg\" alt=\"Open In Colab\"/></a>"
      ]
    },
    {
      "cell_type": "markdown",
      "source": [
        "## AutoEncoders"
      ],
      "metadata": {
        "id": "FrpSL4xfm-Qv"
      }
    },
    {
      "cell_type": "markdown",
      "source": [
        "#### Importing Libraries"
      ],
      "metadata": {
        "id": "UwdxsXLMnE0N"
      }
    },
    {
      "cell_type": "code",
      "source": [
        "import numpy as np\n",
        "import pandas as pd\n",
        "import torch\n",
        "import torch.nn as nn\n",
        "import torch.nn.parallel\n",
        "import torch.optim as optim\n",
        "import torch.utils.data\n",
        "from torch.autograd import Variable"
      ],
      "metadata": {
        "id": "XH-cYzQmm9il"
      },
      "execution_count": null,
      "outputs": []
    },
    {
      "cell_type": "markdown",
      "source": [
        "### Data Preprocessing"
      ],
      "metadata": {
        "id": "haqB0NfqqhGd"
      }
    },
    {
      "cell_type": "markdown",
      "source": [
        "#### Importing the datasets"
      ],
      "metadata": {
        "id": "Ui9W3bulqjFC"
      }
    },
    {
      "cell_type": "code",
      "execution_count": null,
      "metadata": {
        "id": "dnRxRCg1m7ho"
      },
      "outputs": [],
      "source": [
        "movies = pd.read_csv('movies.dat', sep = '::', header = None, engine='python', encoding='latin-1')\n",
        "users = pd.read_csv('users.dat', sep = '::', header = None, engine='python', encoding='latin-1')\n",
        "ratings = pd.read_csv('ratings.dat', sep = '::', header = None, engine='python', encoding='latin-1')"
      ]
    },
    {
      "cell_type": "code",
      "source": [
        "ratings.head()"
      ],
      "metadata": {
        "colab": {
          "base_uri": "https://localhost:8080/",
          "height": 206
        },
        "id": "FFqkz1cQq1Tb",
        "outputId": "39b1cabb-73e2-40a7-de5b-7701153ac835"
      },
      "execution_count": null,
      "outputs": [
        {
          "output_type": "execute_result",
          "data": {
            "text/plain": [
              "   0     1  2          3\n",
              "0  1  1193  5  978300760\n",
              "1  1   661  3  978302109\n",
              "2  1   914  3  978301968\n",
              "3  1  3408  4  978300275\n",
              "4  1  2355  5  978824291"
            ],
            "text/html": [
              "\n",
              "  <div id=\"df-3da66521-2a49-48f0-b76d-8a7f323089ad\" class=\"colab-df-container\">\n",
              "    <div>\n",
              "<style scoped>\n",
              "    .dataframe tbody tr th:only-of-type {\n",
              "        vertical-align: middle;\n",
              "    }\n",
              "\n",
              "    .dataframe tbody tr th {\n",
              "        vertical-align: top;\n",
              "    }\n",
              "\n",
              "    .dataframe thead th {\n",
              "        text-align: right;\n",
              "    }\n",
              "</style>\n",
              "<table border=\"1\" class=\"dataframe\">\n",
              "  <thead>\n",
              "    <tr style=\"text-align: right;\">\n",
              "      <th></th>\n",
              "      <th>0</th>\n",
              "      <th>1</th>\n",
              "      <th>2</th>\n",
              "      <th>3</th>\n",
              "    </tr>\n",
              "  </thead>\n",
              "  <tbody>\n",
              "    <tr>\n",
              "      <th>0</th>\n",
              "      <td>1</td>\n",
              "      <td>1193</td>\n",
              "      <td>5</td>\n",
              "      <td>978300760</td>\n",
              "    </tr>\n",
              "    <tr>\n",
              "      <th>1</th>\n",
              "      <td>1</td>\n",
              "      <td>661</td>\n",
              "      <td>3</td>\n",
              "      <td>978302109</td>\n",
              "    </tr>\n",
              "    <tr>\n",
              "      <th>2</th>\n",
              "      <td>1</td>\n",
              "      <td>914</td>\n",
              "      <td>3</td>\n",
              "      <td>978301968</td>\n",
              "    </tr>\n",
              "    <tr>\n",
              "      <th>3</th>\n",
              "      <td>1</td>\n",
              "      <td>3408</td>\n",
              "      <td>4</td>\n",
              "      <td>978300275</td>\n",
              "    </tr>\n",
              "    <tr>\n",
              "      <th>4</th>\n",
              "      <td>1</td>\n",
              "      <td>2355</td>\n",
              "      <td>5</td>\n",
              "      <td>978824291</td>\n",
              "    </tr>\n",
              "  </tbody>\n",
              "</table>\n",
              "</div>\n",
              "    <div class=\"colab-df-buttons\">\n",
              "\n",
              "  <div class=\"colab-df-container\">\n",
              "    <button class=\"colab-df-convert\" onclick=\"convertToInteractive('df-3da66521-2a49-48f0-b76d-8a7f323089ad')\"\n",
              "            title=\"Convert this dataframe to an interactive table.\"\n",
              "            style=\"display:none;\">\n",
              "\n",
              "  <svg xmlns=\"http://www.w3.org/2000/svg\" height=\"24px\" viewBox=\"0 -960 960 960\">\n",
              "    <path d=\"M120-120v-720h720v720H120Zm60-500h600v-160H180v160Zm220 220h160v-160H400v160Zm0 220h160v-160H400v160ZM180-400h160v-160H180v160Zm440 0h160v-160H620v160ZM180-180h160v-160H180v160Zm440 0h160v-160H620v160Z\"/>\n",
              "  </svg>\n",
              "    </button>\n",
              "\n",
              "  <style>\n",
              "    .colab-df-container {\n",
              "      display:flex;\n",
              "      gap: 12px;\n",
              "    }\n",
              "\n",
              "    .colab-df-convert {\n",
              "      background-color: #E8F0FE;\n",
              "      border: none;\n",
              "      border-radius: 50%;\n",
              "      cursor: pointer;\n",
              "      display: none;\n",
              "      fill: #1967D2;\n",
              "      height: 32px;\n",
              "      padding: 0 0 0 0;\n",
              "      width: 32px;\n",
              "    }\n",
              "\n",
              "    .colab-df-convert:hover {\n",
              "      background-color: #E2EBFA;\n",
              "      box-shadow: 0px 1px 2px rgba(60, 64, 67, 0.3), 0px 1px 3px 1px rgba(60, 64, 67, 0.15);\n",
              "      fill: #174EA6;\n",
              "    }\n",
              "\n",
              "    .colab-df-buttons div {\n",
              "      margin-bottom: 4px;\n",
              "    }\n",
              "\n",
              "    [theme=dark] .colab-df-convert {\n",
              "      background-color: #3B4455;\n",
              "      fill: #D2E3FC;\n",
              "    }\n",
              "\n",
              "    [theme=dark] .colab-df-convert:hover {\n",
              "      background-color: #434B5C;\n",
              "      box-shadow: 0px 1px 3px 1px rgba(0, 0, 0, 0.15);\n",
              "      filter: drop-shadow(0px 1px 2px rgba(0, 0, 0, 0.3));\n",
              "      fill: #FFFFFF;\n",
              "    }\n",
              "  </style>\n",
              "\n",
              "    <script>\n",
              "      const buttonEl =\n",
              "        document.querySelector('#df-3da66521-2a49-48f0-b76d-8a7f323089ad button.colab-df-convert');\n",
              "      buttonEl.style.display =\n",
              "        google.colab.kernel.accessAllowed ? 'block' : 'none';\n",
              "\n",
              "      async function convertToInteractive(key) {\n",
              "        const element = document.querySelector('#df-3da66521-2a49-48f0-b76d-8a7f323089ad');\n",
              "        const dataTable =\n",
              "          await google.colab.kernel.invokeFunction('convertToInteractive',\n",
              "                                                    [key], {});\n",
              "        if (!dataTable) return;\n",
              "\n",
              "        const docLinkHtml = 'Like what you see? Visit the ' +\n",
              "          '<a target=\"_blank\" href=https://colab.research.google.com/notebooks/data_table.ipynb>data table notebook</a>'\n",
              "          + ' to learn more about interactive tables.';\n",
              "        element.innerHTML = '';\n",
              "        dataTable['output_type'] = 'display_data';\n",
              "        await google.colab.output.renderOutput(dataTable, element);\n",
              "        const docLink = document.createElement('div');\n",
              "        docLink.innerHTML = docLinkHtml;\n",
              "        element.appendChild(docLink);\n",
              "      }\n",
              "    </script>\n",
              "  </div>\n",
              "\n",
              "\n",
              "    <div id=\"df-dab5be9a-9ce7-44cc-ad56-ff3741f5121f\">\n",
              "      <button class=\"colab-df-quickchart\" onclick=\"quickchart('df-dab5be9a-9ce7-44cc-ad56-ff3741f5121f')\"\n",
              "                title=\"Suggest charts\"\n",
              "                style=\"display:none;\">\n",
              "\n",
              "<svg xmlns=\"http://www.w3.org/2000/svg\" height=\"24px\"viewBox=\"0 0 24 24\"\n",
              "     width=\"24px\">\n",
              "    <g>\n",
              "        <path d=\"M19 3H5c-1.1 0-2 .9-2 2v14c0 1.1.9 2 2 2h14c1.1 0 2-.9 2-2V5c0-1.1-.9-2-2-2zM9 17H7v-7h2v7zm4 0h-2V7h2v10zm4 0h-2v-4h2v4z\"/>\n",
              "    </g>\n",
              "</svg>\n",
              "      </button>\n",
              "\n",
              "<style>\n",
              "  .colab-df-quickchart {\n",
              "      --bg-color: #E8F0FE;\n",
              "      --fill-color: #1967D2;\n",
              "      --hover-bg-color: #E2EBFA;\n",
              "      --hover-fill-color: #174EA6;\n",
              "      --disabled-fill-color: #AAA;\n",
              "      --disabled-bg-color: #DDD;\n",
              "  }\n",
              "\n",
              "  [theme=dark] .colab-df-quickchart {\n",
              "      --bg-color: #3B4455;\n",
              "      --fill-color: #D2E3FC;\n",
              "      --hover-bg-color: #434B5C;\n",
              "      --hover-fill-color: #FFFFFF;\n",
              "      --disabled-bg-color: #3B4455;\n",
              "      --disabled-fill-color: #666;\n",
              "  }\n",
              "\n",
              "  .colab-df-quickchart {\n",
              "    background-color: var(--bg-color);\n",
              "    border: none;\n",
              "    border-radius: 50%;\n",
              "    cursor: pointer;\n",
              "    display: none;\n",
              "    fill: var(--fill-color);\n",
              "    height: 32px;\n",
              "    padding: 0;\n",
              "    width: 32px;\n",
              "  }\n",
              "\n",
              "  .colab-df-quickchart:hover {\n",
              "    background-color: var(--hover-bg-color);\n",
              "    box-shadow: 0 1px 2px rgba(60, 64, 67, 0.3), 0 1px 3px 1px rgba(60, 64, 67, 0.15);\n",
              "    fill: var(--button-hover-fill-color);\n",
              "  }\n",
              "\n",
              "  .colab-df-quickchart-complete:disabled,\n",
              "  .colab-df-quickchart-complete:disabled:hover {\n",
              "    background-color: var(--disabled-bg-color);\n",
              "    fill: var(--disabled-fill-color);\n",
              "    box-shadow: none;\n",
              "  }\n",
              "\n",
              "  .colab-df-spinner {\n",
              "    border: 2px solid var(--fill-color);\n",
              "    border-color: transparent;\n",
              "    border-bottom-color: var(--fill-color);\n",
              "    animation:\n",
              "      spin 1s steps(1) infinite;\n",
              "  }\n",
              "\n",
              "  @keyframes spin {\n",
              "    0% {\n",
              "      border-color: transparent;\n",
              "      border-bottom-color: var(--fill-color);\n",
              "      border-left-color: var(--fill-color);\n",
              "    }\n",
              "    20% {\n",
              "      border-color: transparent;\n",
              "      border-left-color: var(--fill-color);\n",
              "      border-top-color: var(--fill-color);\n",
              "    }\n",
              "    30% {\n",
              "      border-color: transparent;\n",
              "      border-left-color: var(--fill-color);\n",
              "      border-top-color: var(--fill-color);\n",
              "      border-right-color: var(--fill-color);\n",
              "    }\n",
              "    40% {\n",
              "      border-color: transparent;\n",
              "      border-right-color: var(--fill-color);\n",
              "      border-top-color: var(--fill-color);\n",
              "    }\n",
              "    60% {\n",
              "      border-color: transparent;\n",
              "      border-right-color: var(--fill-color);\n",
              "    }\n",
              "    80% {\n",
              "      border-color: transparent;\n",
              "      border-right-color: var(--fill-color);\n",
              "      border-bottom-color: var(--fill-color);\n",
              "    }\n",
              "    90% {\n",
              "      border-color: transparent;\n",
              "      border-bottom-color: var(--fill-color);\n",
              "    }\n",
              "  }\n",
              "</style>\n",
              "\n",
              "      <script>\n",
              "        async function quickchart(key) {\n",
              "          const quickchartButtonEl =\n",
              "            document.querySelector('#' + key + ' button');\n",
              "          quickchartButtonEl.disabled = true;  // To prevent multiple clicks.\n",
              "          quickchartButtonEl.classList.add('colab-df-spinner');\n",
              "          try {\n",
              "            const charts = await google.colab.kernel.invokeFunction(\n",
              "                'suggestCharts', [key], {});\n",
              "          } catch (error) {\n",
              "            console.error('Error during call to suggestCharts:', error);\n",
              "          }\n",
              "          quickchartButtonEl.classList.remove('colab-df-spinner');\n",
              "          quickchartButtonEl.classList.add('colab-df-quickchart-complete');\n",
              "        }\n",
              "        (() => {\n",
              "          let quickchartButtonEl =\n",
              "            document.querySelector('#df-dab5be9a-9ce7-44cc-ad56-ff3741f5121f button');\n",
              "          quickchartButtonEl.style.display =\n",
              "            google.colab.kernel.accessAllowed ? 'block' : 'none';\n",
              "        })();\n",
              "      </script>\n",
              "    </div>\n",
              "\n",
              "    </div>\n",
              "  </div>\n"
            ],
            "application/vnd.google.colaboratory.intrinsic+json": {
              "type": "dataframe",
              "variable_name": "ratings"
            }
          },
          "metadata": {},
          "execution_count": 4
        }
      ]
    },
    {
      "cell_type": "markdown",
      "source": [
        "#### Preparing the Training and Test set"
      ],
      "metadata": {
        "id": "JxOdrH32pdUn"
      }
    },
    {
      "cell_type": "code",
      "source": [
        "training_set = pd.read_csv('u1.base', delimiter='\\t')\n",
        "training_set = np.array(training_set, dtype='int')\n",
        "\n",
        "test_set = pd.read_csv('u1.test', delimiter='\\t')\n",
        "test_set = np.array(test_set, dtype='int')"
      ],
      "metadata": {
        "id": "Pt7AiuYLpf6w"
      },
      "execution_count": null,
      "outputs": []
    },
    {
      "cell_type": "code",
      "source": [
        "print(f'training_set shape: {training_set.shape}')\n",
        "print(f'test_set shape: {test_set.shape}')"
      ],
      "metadata": {
        "colab": {
          "base_uri": "https://localhost:8080/"
        },
        "id": "UwuHB7OwqFNm",
        "outputId": "934016f4-9540-4302-c12c-278ddcd11509"
      },
      "execution_count": null,
      "outputs": [
        {
          "output_type": "stream",
          "name": "stdout",
          "text": [
            "training_set shape: (79999, 4)\n",
            "test_set shape: (19999, 4)\n"
          ]
        }
      ]
    },
    {
      "cell_type": "markdown",
      "source": [
        "#### Getting the number od Users and Movies"
      ],
      "metadata": {
        "id": "51ttLQoCqofN"
      }
    },
    {
      "cell_type": "code",
      "source": [
        "nb_users = int(max(max(training_set[:,0]),max(test_set[:, 0])))\n",
        "nb_movies = int(max(max(training_set[:, 1]), max(test_set[:, 1])))"
      ],
      "metadata": {
        "id": "kewdrBCkqFvn"
      },
      "execution_count": null,
      "outputs": []
    },
    {
      "cell_type": "code",
      "source": [
        "print(f'Number of Users: {nb_users}')\n",
        "print(f'Number of Movies: {nb_movies}')"
      ],
      "metadata": {
        "colab": {
          "base_uri": "https://localhost:8080/"
        },
        "id": "zApVq1ZGrTFi",
        "outputId": "9105d97d-5d88-44bd-a2c7-7d09204fe9b5"
      },
      "execution_count": null,
      "outputs": [
        {
          "output_type": "stream",
          "name": "stdout",
          "text": [
            "Number of Users: 943\n",
            "Number of Movies: 1682\n"
          ]
        }
      ]
    },
    {
      "cell_type": "markdown",
      "source": [
        "#### Converting the data into an array with users in rows and ratings in columns"
      ],
      "metadata": {
        "id": "52M1WHvfrwfL"
      }
    },
    {
      "cell_type": "code",
      "source": [
        "def convert(data):\n",
        "  new_data = []\n",
        "  for id_users in range(1, nb_users+1):\n",
        "    id_movies = data[:, 1][data[:, 0] == id_users]\n",
        "    id_ratings = data[:, 2][data[:, 0] == id_users]\n",
        "    ratings = np.zeros(nb_movies)\n",
        "    ratings[id_movies - 1] = id_ratings\n",
        "    new_data.append(list(ratings))\n",
        "\n",
        "  return new_data"
      ],
      "metadata": {
        "id": "3GQrKhnhrVbH"
      },
      "execution_count": null,
      "outputs": []
    },
    {
      "cell_type": "code",
      "source": [
        "training_set = convert(training_set)\n",
        "test_set = convert(test_set)"
      ],
      "metadata": {
        "id": "6rqUPAigs89f"
      },
      "execution_count": null,
      "outputs": []
    },
    {
      "cell_type": "code",
      "source": [
        "training_set[0][:5]"
      ],
      "metadata": {
        "colab": {
          "base_uri": "https://localhost:8080/"
        },
        "id": "S3BQmuZDtNU4",
        "outputId": "03426871-4078-483b-de9b-4b73041b7454"
      },
      "execution_count": null,
      "outputs": [
        {
          "output_type": "execute_result",
          "data": {
            "text/plain": [
              "[np.float64(0.0),\n",
              " np.float64(3.0),\n",
              " np.float64(4.0),\n",
              " np.float64(3.0),\n",
              " np.float64(3.0)]"
            ]
          },
          "metadata": {},
          "execution_count": 11
        }
      ]
    },
    {
      "cell_type": "markdown",
      "source": [
        "#### Converting the data into Torch Tensors"
      ],
      "metadata": {
        "id": "8Glno0mvtqbv"
      }
    },
    {
      "cell_type": "code",
      "source": [
        "training_set = torch.FloatTensor(training_set)\n",
        "test_set = torch.FloatTensor(test_set)"
      ],
      "metadata": {
        "id": "V4lOGDH9tRxb"
      },
      "execution_count": null,
      "outputs": []
    },
    {
      "cell_type": "markdown",
      "source": [
        "### Creating the Architecture of Neural Network"
      ],
      "metadata": {
        "id": "v6Z19XHOuD-8"
      }
    },
    {
      "cell_type": "code",
      "source": [
        "class SAE(nn.Module):\n",
        "\n",
        "  def __init__(self, ):\n",
        "    super(SAE, self).__init__()\n",
        "    self.fc1 = nn.Linear(nb_movies, 20)   # Encoding layer 1\n",
        "    self.fc2 = nn.Linear(20 , 10)         # Encoding Layer 2\n",
        "    self.fc3 = nn.Linear(10, 20)          # Decoding Layer 1\n",
        "    self.fc4 = nn.Linear(20, nb_movies)   # Decoding Layer 2\n",
        "    self.activation = nn.Sigmoid()\n",
        "\n",
        "  def forward(self, x):\n",
        "    x = self.activation(self.fc1(x))   # Encoding\n",
        "    x = self.activation(self.fc2(x))   # Encoding\n",
        "    x = self.activation(self.fc3(x))   # Decoding\n",
        "    x = self.fc4(x)                    # Decoding\n",
        "    return x"
      ],
      "metadata": {
        "id": "HRHbjHyTt6u5"
      },
      "execution_count": null,
      "outputs": []
    },
    {
      "cell_type": "code",
      "source": [
        "sae = SAE()\n",
        "criterion = nn.MSELoss()\n",
        "optimizer = optim.RMSprop(sae.parameters(), lr = 0.01, weight_decay = 0.5)"
      ],
      "metadata": {
        "id": "pqpIMZNV26Xj"
      },
      "execution_count": null,
      "outputs": []
    },
    {
      "cell_type": "markdown",
      "source": [
        "### Training the Stacked AutoEncoder"
      ],
      "metadata": {
        "id": "v2XQ48zK4WBV"
      }
    },
    {
      "cell_type": "code",
      "source": [
        "nb_epochs = 200\n",
        "for epoch in range(1, nb_epochs+1):\n",
        "  train_loss = 0\n",
        "  s = 0.\n",
        "  for id_user in range(nb_users):\n",
        "    ## Here we want to create a Batch.. i.e for Batch learning, we have to add a new dimension.., here we are adding ayt 0 index\n",
        "    input = Variable(training_set[id_user]).unsqueeze(0)\n",
        "    target = input.clone()\n",
        "    if torch.sum(target.data > 0) > 0:\n",
        "      output = sae(input)\n",
        "      target.requires_grad = False\n",
        "      output[target == 0] = 0\n",
        "      loss = criterion(output, target)\n",
        "      mean_corrector = nb_movies / float(torch.sum(target.data > 0) + 1e-10)\n",
        "      loss.backward()  # This method says in which direction we have to update i.e either increasing or decreasing\n",
        "      train_loss += np.sqrt(loss.item()*mean_corrector)\n",
        "      s += 1.\n",
        "      optimizer.step() # This method says the intensity that we have to change\n",
        "  print(f'epoch: {epoch} and loss: {train_loss/s}')"
      ],
      "metadata": {
        "id": "DfCVU5574De4",
        "colab": {
          "base_uri": "https://localhost:8080/"
        },
        "outputId": "85671177-ab4b-4306-dbd3-a73d29246b50"
      },
      "execution_count": null,
      "outputs": [
        {
          "output_type": "stream",
          "name": "stdout",
          "text": [
            "epoch: 1 and loss: 1.7651047718816144\n",
            "epoch: 2 and loss: 1.096439468949486\n",
            "epoch: 3 and loss: 1.053552786730757\n",
            "epoch: 4 and loss: 1.038220213892997\n",
            "epoch: 5 and loss: 1.0308594063480443\n",
            "epoch: 6 and loss: 1.0264175926871542\n",
            "epoch: 7 and loss: 1.0238905690636644\n",
            "epoch: 8 and loss: 1.0216788794645555\n",
            "epoch: 9 and loss: 1.0207257034989399\n",
            "epoch: 10 and loss: 1.0195438095749463\n",
            "epoch: 11 and loss: 1.0188955235724169\n",
            "epoch: 12 and loss: 1.0181791149159598\n",
            "epoch: 13 and loss: 1.0178175129533138\n",
            "epoch: 14 and loss: 1.0176081240226558\n",
            "epoch: 15 and loss: 1.017140220269786\n",
            "epoch: 16 and loss: 1.0169319057882646\n",
            "epoch: 17 and loss: 1.0167504311550084\n",
            "epoch: 18 and loss: 1.016378080856992\n",
            "epoch: 19 and loss: 1.0163112642773564\n",
            "epoch: 20 and loss: 1.0160233123758329\n",
            "epoch: 21 and loss: 1.0157925837212134\n",
            "epoch: 22 and loss: 1.0158788376059193\n",
            "epoch: 23 and loss: 1.0158509718554787\n",
            "epoch: 24 and loss: 1.0158677400157947\n",
            "epoch: 25 and loss: 1.015373870264434\n",
            "epoch: 26 and loss: 1.0156599639502388\n",
            "epoch: 27 and loss: 1.0154586168390431\n",
            "epoch: 28 and loss: 1.0149943700894988\n",
            "epoch: 29 and loss: 1.0130121859793264\n",
            "epoch: 30 and loss: 1.0122228427413962\n",
            "epoch: 31 and loss: 1.0090515214889009\n",
            "epoch: 32 and loss: 1.008600189419532\n",
            "epoch: 33 and loss: 1.0048939132427854\n",
            "epoch: 34 and loss: 1.0048804477208166\n",
            "epoch: 35 and loss: 1.0001374385607238\n",
            "epoch: 36 and loss: 0.9990810015420631\n",
            "epoch: 37 and loss: 0.9958858975956929\n",
            "epoch: 38 and loss: 0.996957143697027\n",
            "epoch: 39 and loss: 0.9940107797023918\n",
            "epoch: 40 and loss: 0.9907774319335768\n",
            "epoch: 41 and loss: 0.988894009407859\n",
            "epoch: 42 and loss: 0.9869706251062794\n",
            "epoch: 43 and loss: 0.9891782959931159\n",
            "epoch: 44 and loss: 0.9888650236993255\n",
            "epoch: 45 and loss: 0.9877432172510692\n",
            "epoch: 46 and loss: 0.9820625644806529\n",
            "epoch: 47 and loss: 0.9796972169023143\n",
            "epoch: 48 and loss: 0.9830624718864202\n",
            "epoch: 49 and loss: 0.9799731525254579\n",
            "epoch: 50 and loss: 0.9824630856543001\n",
            "epoch: 51 and loss: 0.9765632925597634\n",
            "epoch: 52 and loss: 0.9755008533705556\n",
            "epoch: 53 and loss: 0.9730019986091601\n",
            "epoch: 54 and loss: 0.9704880956116753\n",
            "epoch: 55 and loss: 0.9663100947572326\n",
            "epoch: 56 and loss: 0.9668016583888321\n",
            "epoch: 57 and loss: 0.9644096515975741\n",
            "epoch: 58 and loss: 0.9635815677986266\n",
            "epoch: 59 and loss: 0.9611915577360456\n",
            "epoch: 60 and loss: 0.9616595560981039\n",
            "epoch: 61 and loss: 0.955097175023431\n",
            "epoch: 62 and loss: 0.9582764401735019\n",
            "epoch: 63 and loss: 0.9546568408978574\n",
            "epoch: 64 and loss: 0.9614258076670273\n",
            "epoch: 65 and loss: 0.9582946010765024\n",
            "epoch: 66 and loss: 0.9587229004030274\n",
            "epoch: 67 and loss: 0.9559445627387375\n",
            "epoch: 68 and loss: 0.9650524766219964\n",
            "epoch: 69 and loss: 0.9639335287728352\n",
            "epoch: 70 and loss: 0.9661073023987027\n",
            "epoch: 71 and loss: 0.9679174411969452\n",
            "epoch: 72 and loss: 0.9651620596320938\n",
            "epoch: 73 and loss: 0.9599864867889115\n",
            "epoch: 74 and loss: 0.9588465097650489\n",
            "epoch: 75 and loss: 0.9577912348577418\n",
            "epoch: 76 and loss: 0.9570802361167424\n",
            "epoch: 77 and loss: 0.9515412498064614\n",
            "epoch: 78 and loss: 0.9535334504614509\n",
            "epoch: 79 and loss: 0.9511985659278547\n",
            "epoch: 80 and loss: 0.951730304878856\n",
            "epoch: 81 and loss: 0.94850826691238\n",
            "epoch: 82 and loss: 0.9496961316260565\n",
            "epoch: 83 and loss: 0.9477497624507498\n",
            "epoch: 84 and loss: 0.948885955014718\n",
            "epoch: 85 and loss: 0.9469050154982109\n",
            "epoch: 86 and loss: 0.9471180479230462\n",
            "epoch: 87 and loss: 0.9437247081972466\n",
            "epoch: 88 and loss: 0.9441956653550572\n",
            "epoch: 89 and loss: 0.9424179784059701\n",
            "epoch: 90 and loss: 0.9443900948781165\n",
            "epoch: 91 and loss: 0.9410127287569783\n",
            "epoch: 92 and loss: 0.9421223733076212\n",
            "epoch: 93 and loss: 0.9400512304395406\n",
            "epoch: 94 and loss: 0.9420103699142174\n",
            "epoch: 95 and loss: 0.9405547504899261\n",
            "epoch: 96 and loss: 0.9403848529404056\n",
            "epoch: 97 and loss: 0.9386976595688401\n",
            "epoch: 98 and loss: 0.939794530775733\n",
            "epoch: 99 and loss: 0.9369200866840179\n",
            "epoch: 100 and loss: 0.9389646558589441\n",
            "epoch: 101 and loss: 0.9377137455300241\n",
            "epoch: 102 and loss: 0.9378262877208912\n",
            "epoch: 103 and loss: 0.937018990763589\n",
            "epoch: 104 and loss: 0.9371097624995478\n",
            "epoch: 105 and loss: 0.9382738912442311\n",
            "epoch: 106 and loss: 0.9372395868824571\n",
            "epoch: 107 and loss: 0.9362147776125448\n",
            "epoch: 108 and loss: 0.9365130645636397\n",
            "epoch: 109 and loss: 0.9353845147863259\n",
            "epoch: 110 and loss: 0.934569796265306\n",
            "epoch: 111 and loss: 0.9362153299027179\n",
            "epoch: 112 and loss: 0.9348396631289638\n",
            "epoch: 113 and loss: 0.9333863501841607\n",
            "epoch: 114 and loss: 0.9332508651110768\n",
            "epoch: 115 and loss: 0.9323005526097539\n",
            "epoch: 116 and loss: 0.9331887444102311\n",
            "epoch: 117 and loss: 0.9345141030606855\n",
            "epoch: 118 and loss: 0.9333647494127045\n",
            "epoch: 119 and loss: 0.9331819007710703\n",
            "epoch: 120 and loss: 0.9324965568283439\n",
            "epoch: 121 and loss: 0.9309497129001749\n",
            "epoch: 122 and loss: 0.9314991551902235\n",
            "epoch: 123 and loss: 0.930187899263889\n",
            "epoch: 124 and loss: 0.9303537708000882\n",
            "epoch: 125 and loss: 0.9290211908779481\n",
            "epoch: 126 and loss: 0.9295533945244144\n",
            "epoch: 127 and loss: 0.9283534022397876\n",
            "epoch: 128 and loss: 0.9286393481843866\n",
            "epoch: 129 and loss: 0.9276842261427749\n",
            "epoch: 130 and loss: 0.9278534586623783\n",
            "epoch: 131 and loss: 0.9268676825240885\n",
            "epoch: 132 and loss: 0.9274660673736537\n",
            "epoch: 133 and loss: 0.9265935898229481\n",
            "epoch: 134 and loss: 0.9265608732857742\n",
            "epoch: 135 and loss: 0.9256755783945171\n",
            "epoch: 136 and loss: 0.9253428744158716\n",
            "epoch: 137 and loss: 0.9248861348605233\n",
            "epoch: 138 and loss: 0.9254315284045654\n",
            "epoch: 139 and loss: 0.9249362822223558\n",
            "epoch: 140 and loss: 0.9245395406024826\n",
            "epoch: 141 and loss: 0.9242378828200515\n",
            "epoch: 142 and loss: 0.925102456066671\n",
            "epoch: 143 and loss: 0.9239628724229196\n",
            "epoch: 144 and loss: 0.9234749752466033\n",
            "epoch: 145 and loss: 0.9225554626574697\n",
            "epoch: 146 and loss: 0.923947160604512\n",
            "epoch: 147 and loss: 0.9229073152833486\n",
            "epoch: 148 and loss: 0.9231551340135944\n",
            "epoch: 149 and loss: 0.921923609299301\n",
            "epoch: 150 and loss: 0.9226898373573851\n",
            "epoch: 151 and loss: 0.9221350802383237\n",
            "epoch: 152 and loss: 0.9221967178414503\n",
            "epoch: 153 and loss: 0.9212631542385225\n",
            "epoch: 154 and loss: 0.9217459469049616\n",
            "epoch: 155 and loss: 0.9202650741229387\n",
            "epoch: 156 and loss: 0.9214652911203317\n",
            "epoch: 157 and loss: 0.9208240366171965\n",
            "epoch: 158 and loss: 0.9211408949018157\n",
            "epoch: 159 and loss: 0.9198709944037238\n",
            "epoch: 160 and loss: 0.9209813761265008\n",
            "epoch: 161 and loss: 0.9196868566212609\n",
            "epoch: 162 and loss: 0.92040017131417\n",
            "epoch: 163 and loss: 0.9193610651228206\n",
            "epoch: 164 and loss: 0.9199179405133576\n",
            "epoch: 165 and loss: 0.9190627511415533\n",
            "epoch: 166 and loss: 0.9198884921260025\n",
            "epoch: 167 and loss: 0.9182520986133531\n",
            "epoch: 168 and loss: 0.9194862538120402\n",
            "epoch: 169 and loss: 0.9182854475833395\n",
            "epoch: 170 and loss: 0.9195692315216395\n",
            "epoch: 171 and loss: 0.9180667297437337\n",
            "epoch: 172 and loss: 0.9189689665742891\n",
            "epoch: 173 and loss: 0.917834055266878\n",
            "epoch: 174 and loss: 0.9187911227380922\n",
            "epoch: 175 and loss: 0.917446681237509\n",
            "epoch: 176 and loss: 0.9182616220220274\n",
            "epoch: 177 and loss: 0.91728315572845\n",
            "epoch: 178 and loss: 0.9180878064027814\n",
            "epoch: 179 and loss: 0.9168427600030067\n",
            "epoch: 180 and loss: 0.9177469312993591\n",
            "epoch: 181 and loss: 0.9169502759958454\n",
            "epoch: 182 and loss: 0.9176388844516091\n",
            "epoch: 183 and loss: 0.916938738121567\n",
            "epoch: 184 and loss: 0.9171075208536638\n",
            "epoch: 185 and loss: 0.916483748813869\n",
            "epoch: 186 and loss: 0.9168086655058317\n",
            "epoch: 187 and loss: 0.916104850130621\n",
            "epoch: 188 and loss: 0.916853303857516\n",
            "epoch: 189 and loss: 0.9160427400199452\n",
            "epoch: 190 and loss: 0.9162328062439931\n",
            "epoch: 191 and loss: 0.9156965917215772\n",
            "epoch: 192 and loss: 0.9166700715354137\n",
            "epoch: 193 and loss: 0.9155960698784084\n",
            "epoch: 194 and loss: 0.9160902525337856\n",
            "epoch: 195 and loss: 0.9152725382564062\n",
            "epoch: 196 and loss: 0.9159936666495582\n",
            "epoch: 197 and loss: 0.914855152466587\n",
            "epoch: 198 and loss: 0.9156768869189559\n",
            "epoch: 199 and loss: 0.9167697692077885\n",
            "epoch: 200 and loss: 0.9152062597650502\n"
          ]
        }
      ]
    },
    {
      "cell_type": "markdown",
      "source": [
        "### Testing the SAE"
      ],
      "metadata": {
        "id": "9acYODuwILAk"
      }
    },
    {
      "cell_type": "code",
      "source": [
        "test_loss = 0\n",
        "s = 0.\n",
        "for id_user in range(nb_users):\n",
        "  ## Here we want to create a Batch.. i.e for Batch learning, we have to add a new dimension.., here we are adding ayt 0 index\n",
        "  input = Variable(training_set[id_user]).unsqueeze(0)\n",
        "  target = Variable(test_set[id_user]).unsqueeze(0)\n",
        "  if torch.sum(target.data > 0) > 0:\n",
        "    output = sae(input)\n",
        "    target.requires_grad = False\n",
        "    output[target == 0] = 0\n",
        "    loss = criterion(output, target)\n",
        "    mean_corrector = nb_movies / float(torch.sum(target.data > 0) + 1e-10)\n",
        "    test_loss += np.sqrt(loss.item()*mean_corrector)\n",
        "    s += 1.\n",
        "print(f'Test Loss: {test_loss/s}')"
      ],
      "metadata": {
        "colab": {
          "base_uri": "https://localhost:8080/"
        },
        "id": "V39y9xUHE_dI",
        "outputId": "a8ec71fd-d49e-4757-83e9-f174b5f1b619"
      },
      "execution_count": null,
      "outputs": [
        {
          "output_type": "stream",
          "name": "stdout",
          "text": [
            "Test Loss: 0.9560937891804855\n"
          ]
        }
      ]
    },
    {
      "cell_type": "code",
      "source": [],
      "metadata": {
        "id": "MPijzlTQKPo4"
      },
      "execution_count": null,
      "outputs": []
    }
  ]
}